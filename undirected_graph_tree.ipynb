{
 "cells": [
  {
   "cell_type": "code",
   "execution_count": 1,
   "metadata": {},
   "outputs": [
    {
     "name": "stdout",
     "output_type": "stream",
     "text": [
      "=======================\n",
      "nodes: [] current_layer [1]\n",
      "next_layer: [2, 4]\n",
      "=======================\n",
      "nodes: [1] current_layer [2, 4]\n",
      "next_layer: [3]\n",
      "=======================\n",
      "nodes: [1, 4, 2] current_layer [3]\n",
      "next_layer: []\n"
     ]
    },
    {
     "data": {
      "text/plain": [
       "True"
      ]
     },
     "execution_count": 1,
     "metadata": {},
     "output_type": "execute_result"
    }
   ],
   "source": [
    "def istree(n,a):\n",
    "    \n",
    "    #树的边长一定比节点少一个，否则就是孤立或者有环路\n",
    "    if len(a) != n-1:\n",
    "        return False\n",
    "    \n",
    "    nodes = []  #储存历史节点\n",
    "    current_layer = [1]  #储存当前层节点\n",
    "    iterate = 0 #防止死循环\n",
    "    \n",
    "    while(len(nodes) < n and iterate < n):\n",
    "        print('=======================')\n",
    "        print('nodes:',nodes,'current_layer',current_layer)\n",
    "        iterate += 1\n",
    "        next_layer = [] #储存下一层节点的临时空间\n",
    "        \n",
    "        #对当前层所有节点寻找所有下一层节点\n",
    "        while(current_layer):\n",
    "            node = current_layer.pop()\n",
    "            for i in range(len(a)):\n",
    "                if node in a[i]:\n",
    "                    \n",
    "                    if a[i].index(node) == 1:\n",
    "                        tmp = 0\n",
    "                    else:\n",
    "                        tmp = 1\n",
    "                    if a[i][tmp] not in nodes+current_layer:\n",
    "                        next_layer.append(a[i][tmp])\n",
    "            nodes.append(node)\n",
    "        print('next_layer:',next_layer)\n",
    "        #更新当前层节点\n",
    "        current_layer = next_layer\n",
    "        #如果无下一层节点表示遍历结束\n",
    "        if next_layer == []:\n",
    "            break\n",
    "    \n",
    "    #历史节点应该包括所有节点，否则就有孤立节点存在\n",
    "    if len(nodes) == n:\n",
    "        return True\n",
    "    else:\n",
    "        return False\n",
    "\n",
    "istree(4,[[1,2],[2,3],[1,4]])"
   ]
  },
  {
   "cell_type": "code",
   "execution_count": 2,
   "metadata": {},
   "outputs": [
    {
     "data": {
      "text/plain": [
       "False"
      ]
     },
     "execution_count": 2,
     "metadata": {},
     "output_type": "execute_result"
    }
   ],
   "source": [
    "istree(5,[[1,2],[2,3],[1,4]])"
   ]
  },
  {
   "cell_type": "code",
   "execution_count": 3,
   "metadata": {},
   "outputs": [
    {
     "name": "stdout",
     "output_type": "stream",
     "text": [
      "=======================\n",
      "nodes: [] current_layer [1]\n",
      "next_layer: [2]\n",
      "=======================\n",
      "nodes: [1] current_layer [2]\n",
      "next_layer: [3, 4]\n",
      "=======================\n",
      "nodes: [1, 2] current_layer [3, 4]\n",
      "next_layer: []\n"
     ]
    },
    {
     "data": {
      "text/plain": [
       "True"
      ]
     },
     "execution_count": 3,
     "metadata": {},
     "output_type": "execute_result"
    }
   ],
   "source": [
    "istree(4,[[1,2],[2,3],[2,4]])"
   ]
  },
  {
   "cell_type": "code",
   "execution_count": 4,
   "metadata": {},
   "outputs": [
    {
     "data": {
      "text/plain": [
       "False"
      ]
     },
     "execution_count": 4,
     "metadata": {},
     "output_type": "execute_result"
    }
   ],
   "source": [
    "istree(3,[[1,2],[2,3],[1,3]])"
   ]
  },
  {
   "cell_type": "code",
   "execution_count": null,
   "metadata": {},
   "outputs": [],
   "source": []
  }
 ],
 "metadata": {
  "kernelspec": {
   "display_name": "Python 3",
   "language": "python",
   "name": "python3"
  },
  "language_info": {
   "codemirror_mode": {
    "name": "ipython",
    "version": 3
   },
   "file_extension": ".py",
   "mimetype": "text/x-python",
   "name": "python",
   "nbconvert_exporter": "python",
   "pygments_lexer": "ipython3",
   "version": "3.6.2"
  }
 },
 "nbformat": 4,
 "nbformat_minor": 2
}
